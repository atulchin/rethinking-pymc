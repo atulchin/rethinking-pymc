{
 "cells": [
  {
   "cell_type": "code",
   "execution_count": 1,
   "metadata": {},
   "outputs": [],
   "source": [
    "import arviz as az\n",
    "import matplotlib.pyplot as plt\n",
    "import numpy as np\n",
    "import pandas as pd\n",
    "import pymc as pm\n",
    "\n",
    "from scipy import stats\n",
    "from scipy.special import expit as logistic\n",
    "from scipy.special import logsumexp"
   ]
  },
  {
   "cell_type": "markdown",
   "metadata": {},
   "source": [
    "based on https://github.com/pymc-devs/pymc-resources/blob/main/Rethinking_2/Chp_15.ipynb"
   ]
  },
  {
   "cell_type": "code",
   "execution_count": 2,
   "metadata": {},
   "outputs": [
    {
     "name": "stdout",
     "output_type": "stream",
     "text": [
      "Last updated: Tue Aug 30 2022\n",
      "\n",
      "Python implementation: CPython\n",
      "Python version       : 3.9.13\n",
      "IPython version      : 8.4.0\n",
      "\n",
      "pandas    : 1.4.3\n",
      "arviz     : 0.12.1\n",
      "matplotlib: 3.5.2\n",
      "scipy     : 1.8.1\n",
      "numpy     : 1.22.4\n",
      "pymc      : 4.1.3\n",
      "sys       : 3.9.13 | packaged by conda-forge | (main, May 27 2022, 17:00:33) \n",
      "[Clang 13.0.1 ]\n",
      "\n",
      "Watermark: 2.3.1\n",
      "\n"
     ]
    }
   ],
   "source": [
    "%config InlineBackend.figure_format = 'retina'\n",
    "%load_ext watermark\n",
    "RANDOM_SEED = 8927\n",
    "np.random.seed(RANDOM_SEED)\n",
    "az.style.use(\"arviz-darkgrid\")\n",
    "plt.style.use(\"dark_background\")\n",
    "\n",
    "%watermark -n -u -v -iv -w"
   ]
  },
  {
   "cell_type": "markdown",
   "metadata": {},
   "source": [
    "#### ch 15.1 measurement error"
   ]
  },
  {
   "cell_type": "code",
   "execution_count": 6,
   "metadata": {},
   "outputs": [],
   "source": [
    "d = pd.read_csv('Data/WaffleDivorce.csv', sep=';')"
   ]
  },
  {
   "cell_type": "code",
   "execution_count": 7,
   "metadata": {},
   "outputs": [
    {
     "data": {
      "text/html": [
       "<div>\n",
       "<style scoped>\n",
       "    .dataframe tbody tr th:only-of-type {\n",
       "        vertical-align: middle;\n",
       "    }\n",
       "\n",
       "    .dataframe tbody tr th {\n",
       "        vertical-align: top;\n",
       "    }\n",
       "\n",
       "    .dataframe thead th {\n",
       "        text-align: right;\n",
       "    }\n",
       "</style>\n",
       "<table border=\"1\" class=\"dataframe\">\n",
       "  <thead>\n",
       "    <tr style=\"text-align: right;\">\n",
       "      <th></th>\n",
       "      <th>Location</th>\n",
       "      <th>Loc</th>\n",
       "      <th>Population</th>\n",
       "      <th>MedianAgeMarriage</th>\n",
       "      <th>Marriage</th>\n",
       "      <th>Marriage SE</th>\n",
       "      <th>Divorce</th>\n",
       "      <th>Divorce SE</th>\n",
       "      <th>WaffleHouses</th>\n",
       "      <th>South</th>\n",
       "      <th>Slaves1860</th>\n",
       "      <th>Population1860</th>\n",
       "      <th>PropSlaves1860</th>\n",
       "    </tr>\n",
       "  </thead>\n",
       "  <tbody>\n",
       "    <tr>\n",
       "      <th>0</th>\n",
       "      <td>Alabama</td>\n",
       "      <td>AL</td>\n",
       "      <td>4.78</td>\n",
       "      <td>25.3</td>\n",
       "      <td>20.2</td>\n",
       "      <td>1.27</td>\n",
       "      <td>12.7</td>\n",
       "      <td>0.79</td>\n",
       "      <td>128</td>\n",
       "      <td>1</td>\n",
       "      <td>435080</td>\n",
       "      <td>964201</td>\n",
       "      <td>0.45</td>\n",
       "    </tr>\n",
       "    <tr>\n",
       "      <th>1</th>\n",
       "      <td>Alaska</td>\n",
       "      <td>AK</td>\n",
       "      <td>0.71</td>\n",
       "      <td>25.2</td>\n",
       "      <td>26.0</td>\n",
       "      <td>2.93</td>\n",
       "      <td>12.5</td>\n",
       "      <td>2.05</td>\n",
       "      <td>0</td>\n",
       "      <td>0</td>\n",
       "      <td>0</td>\n",
       "      <td>0</td>\n",
       "      <td>0.00</td>\n",
       "    </tr>\n",
       "    <tr>\n",
       "      <th>2</th>\n",
       "      <td>Arizona</td>\n",
       "      <td>AZ</td>\n",
       "      <td>6.33</td>\n",
       "      <td>25.8</td>\n",
       "      <td>20.3</td>\n",
       "      <td>0.98</td>\n",
       "      <td>10.8</td>\n",
       "      <td>0.74</td>\n",
       "      <td>18</td>\n",
       "      <td>0</td>\n",
       "      <td>0</td>\n",
       "      <td>0</td>\n",
       "      <td>0.00</td>\n",
       "    </tr>\n",
       "    <tr>\n",
       "      <th>3</th>\n",
       "      <td>Arkansas</td>\n",
       "      <td>AR</td>\n",
       "      <td>2.92</td>\n",
       "      <td>24.3</td>\n",
       "      <td>26.4</td>\n",
       "      <td>1.70</td>\n",
       "      <td>13.5</td>\n",
       "      <td>1.22</td>\n",
       "      <td>41</td>\n",
       "      <td>1</td>\n",
       "      <td>111115</td>\n",
       "      <td>435450</td>\n",
       "      <td>0.26</td>\n",
       "    </tr>\n",
       "    <tr>\n",
       "      <th>4</th>\n",
       "      <td>California</td>\n",
       "      <td>CA</td>\n",
       "      <td>37.25</td>\n",
       "      <td>26.8</td>\n",
       "      <td>19.1</td>\n",
       "      <td>0.39</td>\n",
       "      <td>8.0</td>\n",
       "      <td>0.24</td>\n",
       "      <td>0</td>\n",
       "      <td>0</td>\n",
       "      <td>0</td>\n",
       "      <td>379994</td>\n",
       "      <td>0.00</td>\n",
       "    </tr>\n",
       "  </tbody>\n",
       "</table>\n",
       "</div>"
      ],
      "text/plain": [
       "     Location Loc  Population  MedianAgeMarriage  Marriage  Marriage SE  \\\n",
       "0     Alabama  AL        4.78               25.3      20.2         1.27   \n",
       "1      Alaska  AK        0.71               25.2      26.0         2.93   \n",
       "2     Arizona  AZ        6.33               25.8      20.3         0.98   \n",
       "3    Arkansas  AR        2.92               24.3      26.4         1.70   \n",
       "4  California  CA       37.25               26.8      19.1         0.39   \n",
       "\n",
       "   Divorce  Divorce SE  WaffleHouses  South  Slaves1860  Population1860  \\\n",
       "0     12.7        0.79           128      1      435080          964201   \n",
       "1     12.5        2.05             0      0           0               0   \n",
       "2     10.8        0.74            18      0           0               0   \n",
       "3     13.5        1.22            41      1      111115          435450   \n",
       "4      8.0        0.24             0      0           0          379994   \n",
       "\n",
       "   PropSlaves1860  \n",
       "0            0.45  \n",
       "1            0.00  \n",
       "2            0.00  \n",
       "3            0.26  \n",
       "4            0.00  "
      ]
     },
     "execution_count": 7,
     "metadata": {},
     "output_type": "execute_result"
    }
   ],
   "source": [
    "d.head()"
   ]
  },
  {
   "cell_type": "code",
   "execution_count": 83,
   "metadata": {},
   "outputs": [],
   "source": [
    "## standardize\n",
    "d['D'] = stats.zscore(d['Divorce'])\n",
    "d['D_sd'] = d['Divorce SE'] / d['Divorce'].std()\n",
    "d['M'] = stats.zscore(d['Marriage'])\n",
    "d['M_sd'] = d['Marriage SE'] / d['Marriage'].std()\n",
    "d['A'] = stats.zscore(d['MedianAgeMarriage'])"
   ]
  },
  {
   "cell_type": "code",
   "execution_count": 15,
   "metadata": {},
   "outputs": [
    {
     "name": "stderr",
     "output_type": "stream",
     "text": [
      "Auto-assigning NUTS sampler...\n",
      "Initializing NUTS using jitter+adapt_diag...\n",
      "Multiprocess sampling (4 chains in 4 jobs)\n",
      "NUTS: [a, bA, bM, s, D_true]\n"
     ]
    },
    {
     "data": {
      "text/html": [
       "\n",
       "<style>\n",
       "    /* Turns off some styling */\n",
       "    progress {\n",
       "        /* gets rid of default border in Firefox and Opera. */\n",
       "        border: none;\n",
       "        /* Needs to be in here for Safari polyfill so background images work as expected. */\n",
       "        background-size: auto;\n",
       "    }\n",
       "    progress:not([value]), progress:not([value])::-webkit-progress-bar {\n",
       "        background: repeating-linear-gradient(45deg, #7e7e7e, #7e7e7e 10px, #5c5c5c 10px, #5c5c5c 20px);\n",
       "    }\n",
       "    .progress-bar-interrupted, .progress-bar-interrupted::-webkit-progress-bar {\n",
       "        background: #F44336;\n",
       "    }\n",
       "</style>\n"
      ],
      "text/plain": [
       "<IPython.core.display.HTML object>"
      ]
     },
     "metadata": {},
     "output_type": "display_data"
    },
    {
     "data": {
      "text/html": [
       "\n",
       "    <div>\n",
       "      <progress value='8000' class='' max='8000' style='width:300px; height:20px; vertical-align: middle;'></progress>\n",
       "      100.00% [8000/8000 00:03&lt;00:00 Sampling 4 chains, 0 divergences]\n",
       "    </div>\n",
       "    "
      ],
      "text/plain": [
       "<IPython.core.display.HTML object>"
      ]
     },
     "metadata": {},
     "output_type": "display_data"
    },
    {
     "name": "stderr",
     "output_type": "stream",
     "text": [
      "Sampling 4 chains for 1_000 tune and 1_000 draw iterations (4_000 + 4_000 draws total) took 11 seconds.\n"
     ]
    }
   ],
   "source": [
    "with pm.Model() as m1:\n",
    "    a = pm.Normal(\"a\", 0, 0.2)\n",
    "    bA = pm.Normal(\"bA\", 0, 0.5)\n",
    "    bM = pm.Normal(\"bM\", 0, 0.5)\n",
    "    s = pm.Exponential(\"s\", 1)\n",
    "    A = pm.MutableData(\"A\", d['A'])\n",
    "    M = pm.MutableData(\"M\", d['M'])\n",
    "    D_sd = pm.MutableData(\"D_sd\", d['D_sd'])\n",
    "    mu = pm.Deterministic(\"mu\", a + bA*A + bM*M)\n",
    "    D_true = pm.Normal(\"D_true\", mu, s)\n",
    "    D_obs = pm.Normal(\"D_obs\", D_true, D_sd, observed=d['D'])\n",
    "    trace1 = pm.sample()"
   ]
  },
  {
   "cell_type": "code",
   "execution_count": 19,
   "metadata": {},
   "outputs": [
    {
     "data": {
      "text/html": [
       "<div>\n",
       "<style scoped>\n",
       "    .dataframe tbody tr th:only-of-type {\n",
       "        vertical-align: middle;\n",
       "    }\n",
       "\n",
       "    .dataframe tbody tr th {\n",
       "        vertical-align: top;\n",
       "    }\n",
       "\n",
       "    .dataframe thead th {\n",
       "        text-align: right;\n",
       "    }\n",
       "</style>\n",
       "<table border=\"1\" class=\"dataframe\">\n",
       "  <thead>\n",
       "    <tr style=\"text-align: right;\">\n",
       "      <th></th>\n",
       "      <th>mean</th>\n",
       "      <th>sd</th>\n",
       "      <th>hdi_3%</th>\n",
       "      <th>hdi_97%</th>\n",
       "      <th>mcse_mean</th>\n",
       "      <th>mcse_sd</th>\n",
       "      <th>ess_bulk</th>\n",
       "      <th>ess_tail</th>\n",
       "      <th>r_hat</th>\n",
       "    </tr>\n",
       "  </thead>\n",
       "  <tbody>\n",
       "    <tr>\n",
       "      <th>a</th>\n",
       "      <td>-0.051</td>\n",
       "      <td>0.097</td>\n",
       "      <td>-0.236</td>\n",
       "      <td>0.132</td>\n",
       "      <td>0.002</td>\n",
       "      <td>0.001</td>\n",
       "      <td>3233.0</td>\n",
       "      <td>2963.0</td>\n",
       "      <td>1.00</td>\n",
       "    </tr>\n",
       "    <tr>\n",
       "      <th>bA</th>\n",
       "      <td>-0.608</td>\n",
       "      <td>0.161</td>\n",
       "      <td>-0.899</td>\n",
       "      <td>-0.290</td>\n",
       "      <td>0.003</td>\n",
       "      <td>0.002</td>\n",
       "      <td>2432.0</td>\n",
       "      <td>2860.0</td>\n",
       "      <td>1.00</td>\n",
       "    </tr>\n",
       "    <tr>\n",
       "      <th>bM</th>\n",
       "      <td>0.055</td>\n",
       "      <td>0.168</td>\n",
       "      <td>-0.256</td>\n",
       "      <td>0.361</td>\n",
       "      <td>0.004</td>\n",
       "      <td>0.002</td>\n",
       "      <td>2258.0</td>\n",
       "      <td>2810.0</td>\n",
       "      <td>1.00</td>\n",
       "    </tr>\n",
       "    <tr>\n",
       "      <th>s</th>\n",
       "      <td>0.601</td>\n",
       "      <td>0.104</td>\n",
       "      <td>0.419</td>\n",
       "      <td>0.799</td>\n",
       "      <td>0.003</td>\n",
       "      <td>0.002</td>\n",
       "      <td>1215.0</td>\n",
       "      <td>1577.0</td>\n",
       "      <td>1.01</td>\n",
       "    </tr>\n",
       "  </tbody>\n",
       "</table>\n",
       "</div>"
      ],
      "text/plain": [
       "     mean     sd  hdi_3%  hdi_97%  mcse_mean  mcse_sd  ess_bulk  ess_tail  \\\n",
       "a  -0.051  0.097  -0.236    0.132      0.002    0.001    3233.0    2963.0   \n",
       "bA -0.608  0.161  -0.899   -0.290      0.003    0.002    2432.0    2860.0   \n",
       "bM  0.055  0.168  -0.256    0.361      0.004    0.002    2258.0    2810.0   \n",
       "s   0.601  0.104   0.419    0.799      0.003    0.002    1215.0    1577.0   \n",
       "\n",
       "    r_hat  \n",
       "a    1.00  \n",
       "bA   1.00  \n",
       "bM   1.00  \n",
       "s    1.01  "
      ]
     },
     "execution_count": 19,
     "metadata": {},
     "output_type": "execute_result"
    }
   ],
   "source": [
    "az.summary(trace1, var_names=['a', 'bA', 'bM', 's'])"
   ]
  },
  {
   "cell_type": "code",
   "execution_count": 81,
   "metadata": {},
   "outputs": [
    {
     "data": {
      "text/html": [
       "\n",
       "<style>\n",
       "    /* Turns off some styling */\n",
       "    progress {\n",
       "        /* gets rid of default border in Firefox and Opera. */\n",
       "        border: none;\n",
       "        /* Needs to be in here for Safari polyfill so background images work as expected. */\n",
       "        background-size: auto;\n",
       "    }\n",
       "    progress:not([value]), progress:not([value])::-webkit-progress-bar {\n",
       "        background: repeating-linear-gradient(45deg, #7e7e7e, #7e7e7e 10px, #5c5c5c 10px, #5c5c5c 20px);\n",
       "    }\n",
       "    .progress-bar-interrupted, .progress-bar-interrupted::-webkit-progress-bar {\n",
       "        background: #F44336;\n",
       "    }\n",
       "</style>\n"
      ],
      "text/plain": [
       "<IPython.core.display.HTML object>"
      ]
     },
     "metadata": {},
     "output_type": "display_data"
    },
    {
     "data": {
      "text/html": [
       "\n",
       "    <div>\n",
       "      <progress value='4000' class='' max='4000' style='width:300px; height:20px; vertical-align: middle;'></progress>\n",
       "      100.00% [4000/4000 00:00&lt;00:00]\n",
       "    </div>\n",
       "    "
      ],
      "text/plain": [
       "<IPython.core.display.HTML object>"
      ]
     },
     "metadata": {},
     "output_type": "display_data"
    }
   ],
   "source": [
    "with m1:\n",
    "    ## set M to mean value\n",
    "    pm.set_data({'M': np.zeros(len(d['M']))})\n",
    "    postpred = pm.sample_posterior_predictive(trace1, var_names=['mu','D_true']).posterior_predictive"
   ]
  },
  {
   "cell_type": "code",
   "execution_count": 82,
   "metadata": {},
   "outputs": [
    {
     "data": {
      "text/plain": [
       "<AxesSubplot:>"
      ]
     },
     "execution_count": 82,
     "metadata": {},
     "output_type": "execute_result"
    },
    {
     "data": {
      "image/png": "[encoded data removed]",
      "text/plain": [
       "<Figure size 432x288 with 1 Axes>"
      ]
     },
     "metadata": {
      "image/png": {
       "height": 296,
       "width": 440
      },
      "needs_background": "dark"
     },
     "output_type": "display_data"
    }
   ],
   "source": [
    "post = trace1.posterior\n",
    "postmeans = post.mean(['chain','draw'])\n",
    "_, ax = plt.subplots()\n",
    "ax.scatter(d['A'], d['D'])\n",
    "ax.scatter(d['A'], postmeans['D_true'], color=\"none\", edgecolor=\"w\")\n",
    "## lines\n",
    "ax.plot([d['A'],d['A']], [d['D'],postmeans['D_true']], \"w-\", alpha=0.5)\n",
    "## mu is the linear model\n",
    "ax.plot(d['A'], postpred['mu'].mean(['chain','draw']))\n",
    "az.plot_hdi(d['A'], postpred['mu'])\n",
    "#ax.plot(d['A'], postpred['D_true'].mean(['chain','draw']))\n",
    "#az.plot_hdi(d['A'], postpred['D_true'])\n",
    "\n",
    "## more shrinkage for states where Divorce_SE is higher"
   ]
  },
  {
   "cell_type": "code",
   "execution_count": 86,
   "metadata": {},
   "outputs": [
    {
     "name": "stderr",
     "output_type": "stream",
     "text": [
      "Auto-assigning NUTS sampler...\n",
      "Initializing NUTS using jitter+adapt_diag...\n",
      "Multiprocess sampling (4 chains in 4 jobs)\n",
      "NUTS: [a, bA, bM, s, M_true, D_true]\n"
     ]
    },
    {
     "data": {
      "text/html": [
       "\n",
       "<style>\n",
       "    /* Turns off some styling */\n",
       "    progress {\n",
       "        /* gets rid of default border in Firefox and Opera. */\n",
       "        border: none;\n",
       "        /* Needs to be in here for Safari polyfill so background images work as expected. */\n",
       "        background-size: auto;\n",
       "    }\n",
       "    progress:not([value]), progress:not([value])::-webkit-progress-bar {\n",
       "        background: repeating-linear-gradient(45deg, #7e7e7e, #7e7e7e 10px, #5c5c5c 10px, #5c5c5c 20px);\n",
       "    }\n",
       "    .progress-bar-interrupted, .progress-bar-interrupted::-webkit-progress-bar {\n",
       "        background: #F44336;\n",
       "    }\n",
       "</style>\n"
      ],
      "text/plain": [
       "<IPython.core.display.HTML object>"
      ]
     },
     "metadata": {},
     "output_type": "display_data"
    },
    {
     "data": {
      "text/html": [
       "\n",
       "    <div>\n",
       "      <progress value='8000' class='' max='8000' style='width:300px; height:20px; vertical-align: middle;'></progress>\n",
       "      100.00% [8000/8000 00:03&lt;00:00 Sampling 4 chains, 2 divergences]\n",
       "    </div>\n",
       "    "
      ],
      "text/plain": [
       "<IPython.core.display.HTML object>"
      ]
     },
     "metadata": {},
     "output_type": "display_data"
    },
    {
     "name": "stderr",
     "output_type": "stream",
     "text": [
      "Sampling 4 chains for 1_000 tune and 1_000 draw iterations (4_000 + 4_000 draws total) took 12 seconds.\n",
      "There were 2 divergences after tuning. Increase `target_accept` or reparameterize.\n"
     ]
    }
   ],
   "source": [
    "## incorporate measurement error in predictor M also\n",
    "with pm.Model() as m2:\n",
    "    a = pm.Normal(\"a\", 0, 0.2)\n",
    "    bA = pm.Normal(\"bA\", 0, 0.5)\n",
    "    bM = pm.Normal(\"bM\", 0, 0.5)\n",
    "    s = pm.Exponential(\"s\", 1)\n",
    "    A = pm.MutableData(\"A\", d['A'])\n",
    "    M = pm.MutableData(\"M\", d['M'])\n",
    "    D_sd = pm.MutableData(\"D_sd\", d['D_sd'])\n",
    "    M_sd = pm.MutableData(\"M_sd\", d['M_sd'])\n",
    "    ## true M has mean 0 and sd 1 (standardized)\n",
    "    ##  (it would be better to use A -> M to model M_true)\n",
    "    M_true = pm.Normal(\"M_true\", 0, 1, shape=M.size)\n",
    "    ## observed M comes from true M\n",
    "    M_obs = pm.Normal(\"M_obs\", M_true, M_sd, observed=M)\n",
    "    ## mu depends on true M\n",
    "    mu = pm.Deterministic(\"mu\", a + bA*A + bM*M_true)\n",
    "    D_true = pm.Normal(\"D_true\", mu, s)\n",
    "    D_obs = pm.Normal(\"D_obs\", D_true, D_sd, observed=d['D'])\n",
    "    trace2 = pm.sample()"
   ]
  },
  {
   "cell_type": "code",
   "execution_count": 88,
   "metadata": {},
   "outputs": [
    {
     "data": {
      "text/html": [
       "<div>\n",
       "<style scoped>\n",
       "    .dataframe tbody tr th:only-of-type {\n",
       "        vertical-align: middle;\n",
       "    }\n",
       "\n",
       "    .dataframe tbody tr th {\n",
       "        vertical-align: top;\n",
       "    }\n",
       "\n",
       "    .dataframe thead th {\n",
       "        text-align: right;\n",
       "    }\n",
       "</style>\n",
       "<table border=\"1\" class=\"dataframe\">\n",
       "  <thead>\n",
       "    <tr style=\"text-align: right;\">\n",
       "      <th></th>\n",
       "      <th>mean</th>\n",
       "      <th>sd</th>\n",
       "      <th>hdi_3%</th>\n",
       "      <th>hdi_97%</th>\n",
       "      <th>mcse_mean</th>\n",
       "      <th>mcse_sd</th>\n",
       "      <th>ess_bulk</th>\n",
       "      <th>ess_tail</th>\n",
       "      <th>r_hat</th>\n",
       "    </tr>\n",
       "  </thead>\n",
       "  <tbody>\n",
       "    <tr>\n",
       "      <th>a</th>\n",
       "      <td>-0.039</td>\n",
       "      <td>0.099</td>\n",
       "      <td>-0.219</td>\n",
       "      <td>0.154</td>\n",
       "      <td>0.001</td>\n",
       "      <td>0.001</td>\n",
       "      <td>4853.0</td>\n",
       "      <td>3175.0</td>\n",
       "      <td>1.0</td>\n",
       "    </tr>\n",
       "    <tr>\n",
       "      <th>bA</th>\n",
       "      <td>-0.537</td>\n",
       "      <td>0.160</td>\n",
       "      <td>-0.860</td>\n",
       "      <td>-0.254</td>\n",
       "      <td>0.003</td>\n",
       "      <td>0.002</td>\n",
       "      <td>3135.0</td>\n",
       "      <td>2912.0</td>\n",
       "      <td>1.0</td>\n",
       "    </tr>\n",
       "    <tr>\n",
       "      <th>bM</th>\n",
       "      <td>0.199</td>\n",
       "      <td>0.205</td>\n",
       "      <td>-0.192</td>\n",
       "      <td>0.572</td>\n",
       "      <td>0.004</td>\n",
       "      <td>0.003</td>\n",
       "      <td>2309.0</td>\n",
       "      <td>2306.0</td>\n",
       "      <td>1.0</td>\n",
       "    </tr>\n",
       "    <tr>\n",
       "      <th>s</th>\n",
       "      <td>0.574</td>\n",
       "      <td>0.112</td>\n",
       "      <td>0.376</td>\n",
       "      <td>0.788</td>\n",
       "      <td>0.003</td>\n",
       "      <td>0.002</td>\n",
       "      <td>1260.0</td>\n",
       "      <td>1103.0</td>\n",
       "      <td>1.0</td>\n",
       "    </tr>\n",
       "  </tbody>\n",
       "</table>\n",
       "</div>"
      ],
      "text/plain": [
       "     mean     sd  hdi_3%  hdi_97%  mcse_mean  mcse_sd  ess_bulk  ess_tail  \\\n",
       "a  -0.039  0.099  -0.219    0.154      0.001    0.001    4853.0    3175.0   \n",
       "bA -0.537  0.160  -0.860   -0.254      0.003    0.002    3135.0    2912.0   \n",
       "bM  0.199  0.205  -0.192    0.572      0.004    0.003    2309.0    2306.0   \n",
       "s   0.574  0.112   0.376    0.788      0.003    0.002    1260.0    1103.0   \n",
       "\n",
       "    r_hat  \n",
       "a     1.0  \n",
       "bA    1.0  \n",
       "bM    1.0  \n",
       "s     1.0  "
      ]
     },
     "execution_count": 88,
     "metadata": {},
     "output_type": "execute_result"
    }
   ],
   "source": [
    "az.summary(trace2, var_names=['a', 'bA', 'bM', 's'])"
   ]
  },
  {
   "cell_type": "code",
   "execution_count": 94,
   "metadata": {},
   "outputs": [
    {
     "data": {
      "image/png": "[encoded data removed]",
      "text/plain": [
       "<Figure size 432x288 with 1 Axes>"
      ]
     },
     "metadata": {
      "image/png": {
       "height": 296,
       "width": 440
      },
      "needs_background": "dark"
     },
     "output_type": "display_data"
    }
   ],
   "source": [
    "postmeans = trace2.posterior.mean(['chain','draw'])\n",
    "_, ax = plt.subplots()\n",
    "ax.scatter(d['M'],d['D'])\n",
    "ax.scatter(postmeans['M_true'], postmeans['D_true'], color=\"none\", edgecolor=\"w\")\n",
    "ax.plot([d['M'],postmeans['M_true']], [d['D'], postmeans['D_true']], \"w-\", alpha=0.5);"
   ]
  },
  {
   "cell_type": "markdown",
   "metadata": {},
   "source": [
    "#### 15.2.2 imputing missing data"
   ]
  },
  {
   "cell_type": "code",
   "execution_count": 120,
   "metadata": {},
   "outputs": [],
   "source": [
    "d = pd.read_csv(\"Data/milk.csv\", sep=';')"
   ]
  },
  {
   "cell_type": "code",
   "execution_count": 121,
   "metadata": {},
   "outputs": [
    {
     "data": {
      "text/html": [
       "<div>\n",
       "<style scoped>\n",
       "    .dataframe tbody tr th:only-of-type {\n",
       "        vertical-align: middle;\n",
       "    }\n",
       "\n",
       "    .dataframe tbody tr th {\n",
       "        vertical-align: top;\n",
       "    }\n",
       "\n",
       "    .dataframe thead th {\n",
       "        text-align: right;\n",
       "    }\n",
       "</style>\n",
       "<table border=\"1\" class=\"dataframe\">\n",
       "  <thead>\n",
       "    <tr style=\"text-align: right;\">\n",
       "      <th></th>\n",
       "      <th>clade</th>\n",
       "      <th>species</th>\n",
       "      <th>kcal.per.g</th>\n",
       "      <th>perc.fat</th>\n",
       "      <th>perc.protein</th>\n",
       "      <th>perc.lactose</th>\n",
       "      <th>mass</th>\n",
       "      <th>neocortex.perc</th>\n",
       "      <th>B</th>\n",
       "      <th>K</th>\n",
       "      <th>logmass</th>\n",
       "      <th>M</th>\n",
       "    </tr>\n",
       "  </thead>\n",
       "  <tbody>\n",
       "    <tr>\n",
       "      <th>0</th>\n",
       "      <td>Strepsirrhine</td>\n",
       "      <td>Eulemur fulvus</td>\n",
       "      <td>0.49</td>\n",
       "      <td>16.60</td>\n",
       "      <td>15.42</td>\n",
       "      <td>67.98</td>\n",
       "      <td>1.95</td>\n",
       "      <td>55.16</td>\n",
       "      <td>-2.144217</td>\n",
       "      <td>-0.956680</td>\n",
       "      <td>0.667829</td>\n",
       "      <td>-0.463904</td>\n",
       "    </tr>\n",
       "    <tr>\n",
       "      <th>1</th>\n",
       "      <td>Strepsirrhine</td>\n",
       "      <td>E macaco</td>\n",
       "      <td>0.51</td>\n",
       "      <td>19.27</td>\n",
       "      <td>16.91</td>\n",
       "      <td>63.82</td>\n",
       "      <td>2.09</td>\n",
       "      <td>NaN</td>\n",
       "      <td>NaN</td>\n",
       "      <td>-0.830572</td>\n",
       "      <td>0.737164</td>\n",
       "      <td>-0.422348</td>\n",
       "    </tr>\n",
       "    <tr>\n",
       "      <th>2</th>\n",
       "      <td>Strepsirrhine</td>\n",
       "      <td>E mongoz</td>\n",
       "      <td>0.46</td>\n",
       "      <td>14.11</td>\n",
       "      <td>16.85</td>\n",
       "      <td>69.04</td>\n",
       "      <td>2.51</td>\n",
       "      <td>NaN</td>\n",
       "      <td>NaN</td>\n",
       "      <td>-1.145842</td>\n",
       "      <td>0.920283</td>\n",
       "      <td>-0.312595</td>\n",
       "    </tr>\n",
       "    <tr>\n",
       "      <th>3</th>\n",
       "      <td>Strepsirrhine</td>\n",
       "      <td>E rubriventer</td>\n",
       "      <td>0.48</td>\n",
       "      <td>14.91</td>\n",
       "      <td>13.18</td>\n",
       "      <td>71.91</td>\n",
       "      <td>1.62</td>\n",
       "      <td>NaN</td>\n",
       "      <td>NaN</td>\n",
       "      <td>-1.019734</td>\n",
       "      <td>0.482426</td>\n",
       "      <td>-0.575027</td>\n",
       "    </tr>\n",
       "    <tr>\n",
       "      <th>4</th>\n",
       "      <td>Strepsirrhine</td>\n",
       "      <td>Lemur catta</td>\n",
       "      <td>0.60</td>\n",
       "      <td>27.28</td>\n",
       "      <td>19.50</td>\n",
       "      <td>53.22</td>\n",
       "      <td>2.19</td>\n",
       "      <td>NaN</td>\n",
       "      <td>NaN</td>\n",
       "      <td>-0.263087</td>\n",
       "      <td>0.783902</td>\n",
       "      <td>-0.394336</td>\n",
       "    </tr>\n",
       "  </tbody>\n",
       "</table>\n",
       "</div>"
      ],
      "text/plain": [
       "           clade         species  kcal.per.g  perc.fat  perc.protein  \\\n",
       "0  Strepsirrhine  Eulemur fulvus        0.49     16.60         15.42   \n",
       "1  Strepsirrhine        E macaco        0.51     19.27         16.91   \n",
       "2  Strepsirrhine        E mongoz        0.46     14.11         16.85   \n",
       "3  Strepsirrhine   E rubriventer        0.48     14.91         13.18   \n",
       "4  Strepsirrhine     Lemur catta        0.60     27.28         19.50   \n",
       "\n",
       "   perc.lactose  mass  neocortex.perc         B         K   logmass         M  \n",
       "0         67.98  1.95           55.16 -2.144217 -0.956680  0.667829 -0.463904  \n",
       "1         63.82  2.09             NaN       NaN -0.830572  0.737164 -0.422348  \n",
       "2         69.04  2.51             NaN       NaN -1.145842  0.920283 -0.312595  \n",
       "3         71.91  1.62             NaN       NaN -1.019734  0.482426 -0.575027  \n",
       "4         53.22  2.19             NaN       NaN -0.263087  0.783902 -0.394336  "
      ]
     },
     "execution_count": 121,
     "metadata": {},
     "output_type": "execute_result"
    }
   ],
   "source": [
    "d['B'] = stats.zscore(d['neocortex.perc'], nan_policy='omit')\n",
    "d['K'] = stats.zscore(d['kcal.per.g'], nan_policy='omit')\n",
    "d['logmass'] = np.log(d['mass'])\n",
    "d['M'] = stats.zscore(d['logmass'], nan_policy='omit')\n",
    "d.head()"
   ]
  },
  {
   "cell_type": "code",
   "execution_count": 127,
   "metadata": {},
   "outputs": [
    {
     "name": "stderr",
     "output_type": "stream",
     "text": [
      "/Users/sasha/miniforge3/lib/python3.9/site-packages/pymc/model.py:1431: ImputationWarning: Data in Bi contains missing values and will be automatically imputed from the sampling distribution.\n",
      "  warnings.warn(impute_message, ImputationWarning)\n",
      "Auto-assigning NUTS sampler...\n",
      "Initializing NUTS using jitter+adapt_diag...\n",
      "Multiprocess sampling (4 chains in 4 jobs)\n",
      "NUTS: [muB, sB, a, bB, bM, Bi_missing, s]\n"
     ]
    },
    {
     "data": {
      "text/html": [
       "\n",
       "<style>\n",
       "    /* Turns off some styling */\n",
       "    progress {\n",
       "        /* gets rid of default border in Firefox and Opera. */\n",
       "        border: none;\n",
       "        /* Needs to be in here for Safari polyfill so background images work as expected. */\n",
       "        background-size: auto;\n",
       "    }\n",
       "    progress:not([value]), progress:not([value])::-webkit-progress-bar {\n",
       "        background: repeating-linear-gradient(45deg, #7e7e7e, #7e7e7e 10px, #5c5c5c 10px, #5c5c5c 20px);\n",
       "    }\n",
       "    .progress-bar-interrupted, .progress-bar-interrupted::-webkit-progress-bar {\n",
       "        background: #F44336;\n",
       "    }\n",
       "</style>\n"
      ],
      "text/plain": [
       "<IPython.core.display.HTML object>"
      ]
     },
     "metadata": {},
     "output_type": "display_data"
    },
    {
     "data": {
      "text/html": [
       "\n",
       "    <div>\n",
       "      <progress value='8000' class='' max='8000' style='width:300px; height:20px; vertical-align: middle;'></progress>\n",
       "      100.00% [8000/8000 00:04&lt;00:00 Sampling 4 chains, 0 divergences]\n",
       "    </div>\n",
       "    "
      ],
      "text/plain": [
       "<IPython.core.display.HTML object>"
      ]
     },
     "metadata": {},
     "output_type": "display_data"
    },
    {
     "name": "stderr",
     "output_type": "stream",
     "text": [
      "Sampling 4 chains for 1_000 tune and 1_000 draw iterations (4_000 + 4_000 draws total) took 12 seconds.\n"
     ]
    }
   ],
   "source": [
    "with pm.Model() as m5:\n",
    "    ## missing B values ~ Normal(muB, sB) ; need to estimate these params\n",
    "    muB = pm.Normal(\"muB\", 0, 0.5)\n",
    "    sB = pm.Exponential(\"sB\", 1)\n",
    "    ## linear model\n",
    "    a = pm.Normal(\"a\", 0, 0.5)\n",
    "    bB = pm.Normal(\"bB\", 0, 0.5)\n",
    "    bM = pm.Normal(\"bM\", 0, 0.5)\n",
    "    ## pymc doesn't know to impute data if you do this\n",
    "    ## B = pm.MutableData(\"B\", d['B'])\n",
    "    M = pm.MutableData(\"M\", d['M'])\n",
    "    ## observed values are used to estimate muB and sB,\n",
    "    ##  which are used to impute missing values\n",
    "    Bi = pm.Normal(\"Bi\", muB, sB, observed=d['B'])\n",
    "    ## mu uses imputed values\n",
    "    mu = pm.Deterministic(\"mu\", a + bB*Bi + bM*M)\n",
    "    ## likelihood\n",
    "    s = pm.Exponential(\"s\", 1)\n",
    "    kcal = pm.Normal(\"kcal\", mu, s, observed=d['K'])\n",
    "    trace5 = pm.sample()\n"
   ]
  },
  {
   "cell_type": "code",
   "execution_count": 128,
   "metadata": {},
   "outputs": [
    {
     "data": {
      "text/html": [
       "<div>\n",
       "<style scoped>\n",
       "    .dataframe tbody tr th:only-of-type {\n",
       "        vertical-align: middle;\n",
       "    }\n",
       "\n",
       "    .dataframe tbody tr th {\n",
       "        vertical-align: top;\n",
       "    }\n",
       "\n",
       "    .dataframe thead th {\n",
       "        text-align: right;\n",
       "    }\n",
       "</style>\n",
       "<table border=\"1\" class=\"dataframe\">\n",
       "  <thead>\n",
       "    <tr style=\"text-align: right;\">\n",
       "      <th></th>\n",
       "      <th>mean</th>\n",
       "      <th>sd</th>\n",
       "      <th>hdi_3%</th>\n",
       "      <th>hdi_97%</th>\n",
       "      <th>mcse_mean</th>\n",
       "      <th>mcse_sd</th>\n",
       "      <th>ess_bulk</th>\n",
       "      <th>ess_tail</th>\n",
       "      <th>r_hat</th>\n",
       "    </tr>\n",
       "  </thead>\n",
       "  <tbody>\n",
       "    <tr>\n",
       "      <th>muB</th>\n",
       "      <td>-0.046</td>\n",
       "      <td>0.216</td>\n",
       "      <td>-0.437</td>\n",
       "      <td>0.360</td>\n",
       "      <td>0.004</td>\n",
       "      <td>0.003</td>\n",
       "      <td>3729.0</td>\n",
       "      <td>3072.0</td>\n",
       "      <td>1.0</td>\n",
       "    </tr>\n",
       "    <tr>\n",
       "      <th>a</th>\n",
       "      <td>0.028</td>\n",
       "      <td>0.161</td>\n",
       "      <td>-0.280</td>\n",
       "      <td>0.321</td>\n",
       "      <td>0.002</td>\n",
       "      <td>0.003</td>\n",
       "      <td>4990.0</td>\n",
       "      <td>2993.0</td>\n",
       "      <td>1.0</td>\n",
       "    </tr>\n",
       "    <tr>\n",
       "      <th>bB</th>\n",
       "      <td>0.486</td>\n",
       "      <td>0.235</td>\n",
       "      <td>0.032</td>\n",
       "      <td>0.914</td>\n",
       "      <td>0.005</td>\n",
       "      <td>0.004</td>\n",
       "      <td>1832.0</td>\n",
       "      <td>2892.0</td>\n",
       "      <td>1.0</td>\n",
       "    </tr>\n",
       "    <tr>\n",
       "      <th>bM</th>\n",
       "      <td>-0.537</td>\n",
       "      <td>0.200</td>\n",
       "      <td>-0.922</td>\n",
       "      <td>-0.171</td>\n",
       "      <td>0.004</td>\n",
       "      <td>0.003</td>\n",
       "      <td>2609.0</td>\n",
       "      <td>3126.0</td>\n",
       "      <td>1.0</td>\n",
       "    </tr>\n",
       "    <tr>\n",
       "      <th>Bi_missing[0]</th>\n",
       "      <td>-0.575</td>\n",
       "      <td>0.948</td>\n",
       "      <td>-2.365</td>\n",
       "      <td>1.249</td>\n",
       "      <td>0.015</td>\n",
       "      <td>0.012</td>\n",
       "      <td>3957.0</td>\n",
       "      <td>3026.0</td>\n",
       "      <td>1.0</td>\n",
       "    </tr>\n",
       "    <tr>\n",
       "      <th>Bi_missing[1]</th>\n",
       "      <td>-0.714</td>\n",
       "      <td>0.983</td>\n",
       "      <td>-2.559</td>\n",
       "      <td>1.117</td>\n",
       "      <td>0.015</td>\n",
       "      <td>0.013</td>\n",
       "      <td>4246.0</td>\n",
       "      <td>3116.0</td>\n",
       "      <td>1.0</td>\n",
       "    </tr>\n",
       "    <tr>\n",
       "      <th>Bi_missing[2]</th>\n",
       "      <td>-0.709</td>\n",
       "      <td>0.976</td>\n",
       "      <td>-2.552</td>\n",
       "      <td>1.155</td>\n",
       "      <td>0.016</td>\n",
       "      <td>0.013</td>\n",
       "      <td>3855.0</td>\n",
       "      <td>2933.0</td>\n",
       "      <td>1.0</td>\n",
       "    </tr>\n",
       "    <tr>\n",
       "      <th>Bi_missing[3]</th>\n",
       "      <td>-0.299</td>\n",
       "      <td>0.907</td>\n",
       "      <td>-1.978</td>\n",
       "      <td>1.432</td>\n",
       "      <td>0.013</td>\n",
       "      <td>0.014</td>\n",
       "      <td>4680.0</td>\n",
       "      <td>3051.0</td>\n",
       "      <td>1.0</td>\n",
       "    </tr>\n",
       "    <tr>\n",
       "      <th>Bi_missing[4]</th>\n",
       "      <td>0.482</td>\n",
       "      <td>0.940</td>\n",
       "      <td>-1.294</td>\n",
       "      <td>2.230</td>\n",
       "      <td>0.013</td>\n",
       "      <td>0.014</td>\n",
       "      <td>5256.0</td>\n",
       "      <td>2544.0</td>\n",
       "      <td>1.0</td>\n",
       "    </tr>\n",
       "    <tr>\n",
       "      <th>Bi_missing[5]</th>\n",
       "      <td>-0.176</td>\n",
       "      <td>0.933</td>\n",
       "      <td>-1.929</td>\n",
       "      <td>1.628</td>\n",
       "      <td>0.013</td>\n",
       "      <td>0.015</td>\n",
       "      <td>5253.0</td>\n",
       "      <td>2464.0</td>\n",
       "      <td>1.0</td>\n",
       "    </tr>\n",
       "    <tr>\n",
       "      <th>Bi_missing[6]</th>\n",
       "      <td>0.194</td>\n",
       "      <td>0.916</td>\n",
       "      <td>-1.431</td>\n",
       "      <td>2.116</td>\n",
       "      <td>0.013</td>\n",
       "      <td>0.014</td>\n",
       "      <td>4682.0</td>\n",
       "      <td>2787.0</td>\n",
       "      <td>1.0</td>\n",
       "    </tr>\n",
       "    <tr>\n",
       "      <th>Bi_missing[7]</th>\n",
       "      <td>0.282</td>\n",
       "      <td>0.923</td>\n",
       "      <td>-1.401</td>\n",
       "      <td>2.092</td>\n",
       "      <td>0.013</td>\n",
       "      <td>0.014</td>\n",
       "      <td>5092.0</td>\n",
       "      <td>2769.0</td>\n",
       "      <td>1.0</td>\n",
       "    </tr>\n",
       "    <tr>\n",
       "      <th>Bi_missing[8]</th>\n",
       "      <td>0.534</td>\n",
       "      <td>0.954</td>\n",
       "      <td>-1.261</td>\n",
       "      <td>2.273</td>\n",
       "      <td>0.014</td>\n",
       "      <td>0.015</td>\n",
       "      <td>4481.0</td>\n",
       "      <td>2937.0</td>\n",
       "      <td>1.0</td>\n",
       "    </tr>\n",
       "    <tr>\n",
       "      <th>Bi_missing[9]</th>\n",
       "      <td>-0.458</td>\n",
       "      <td>0.913</td>\n",
       "      <td>-2.153</td>\n",
       "      <td>1.336</td>\n",
       "      <td>0.013</td>\n",
       "      <td>0.013</td>\n",
       "      <td>4706.0</td>\n",
       "      <td>3070.0</td>\n",
       "      <td>1.0</td>\n",
       "    </tr>\n",
       "    <tr>\n",
       "      <th>Bi_missing[10]</th>\n",
       "      <td>-0.308</td>\n",
       "      <td>0.920</td>\n",
       "      <td>-2.116</td>\n",
       "      <td>1.343</td>\n",
       "      <td>0.013</td>\n",
       "      <td>0.015</td>\n",
       "      <td>5136.0</td>\n",
       "      <td>2690.0</td>\n",
       "      <td>1.0</td>\n",
       "    </tr>\n",
       "    <tr>\n",
       "      <th>Bi_missing[11]</th>\n",
       "      <td>0.125</td>\n",
       "      <td>0.942</td>\n",
       "      <td>-1.568</td>\n",
       "      <td>1.938</td>\n",
       "      <td>0.013</td>\n",
       "      <td>0.015</td>\n",
       "      <td>5227.0</td>\n",
       "      <td>3003.0</td>\n",
       "      <td>1.0</td>\n",
       "    </tr>\n",
       "    <tr>\n",
       "      <th>sB</th>\n",
       "      <td>1.039</td>\n",
       "      <td>0.175</td>\n",
       "      <td>0.741</td>\n",
       "      <td>1.368</td>\n",
       "      <td>0.004</td>\n",
       "      <td>0.003</td>\n",
       "      <td>2407.0</td>\n",
       "      <td>2901.0</td>\n",
       "      <td>1.0</td>\n",
       "    </tr>\n",
       "    <tr>\n",
       "      <th>s</th>\n",
       "      <td>0.858</td>\n",
       "      <td>0.144</td>\n",
       "      <td>0.597</td>\n",
       "      <td>1.122</td>\n",
       "      <td>0.003</td>\n",
       "      <td>0.002</td>\n",
       "      <td>2628.0</td>\n",
       "      <td>2873.0</td>\n",
       "      <td>1.0</td>\n",
       "    </tr>\n",
       "  </tbody>\n",
       "</table>\n",
       "</div>"
      ],
      "text/plain": [
       "                 mean     sd  hdi_3%  hdi_97%  mcse_mean  mcse_sd  ess_bulk  \\\n",
       "muB            -0.046  0.216  -0.437    0.360      0.004    0.003    3729.0   \n",
       "a               0.028  0.161  -0.280    0.321      0.002    0.003    4990.0   \n",
       "bB              0.486  0.235   0.032    0.914      0.005    0.004    1832.0   \n",
       "bM             -0.537  0.200  -0.922   -0.171      0.004    0.003    2609.0   \n",
       "Bi_missing[0]  -0.575  0.948  -2.365    1.249      0.015    0.012    3957.0   \n",
       "Bi_missing[1]  -0.714  0.983  -2.559    1.117      0.015    0.013    4246.0   \n",
       "Bi_missing[2]  -0.709  0.976  -2.552    1.155      0.016    0.013    3855.0   \n",
       "Bi_missing[3]  -0.299  0.907  -1.978    1.432      0.013    0.014    4680.0   \n",
       "Bi_missing[4]   0.482  0.940  -1.294    2.230      0.013    0.014    5256.0   \n",
       "Bi_missing[5]  -0.176  0.933  -1.929    1.628      0.013    0.015    5253.0   \n",
       "Bi_missing[6]   0.194  0.916  -1.431    2.116      0.013    0.014    4682.0   \n",
       "Bi_missing[7]   0.282  0.923  -1.401    2.092      0.013    0.014    5092.0   \n",
       "Bi_missing[8]   0.534  0.954  -1.261    2.273      0.014    0.015    4481.0   \n",
       "Bi_missing[9]  -0.458  0.913  -2.153    1.336      0.013    0.013    4706.0   \n",
       "Bi_missing[10] -0.308  0.920  -2.116    1.343      0.013    0.015    5136.0   \n",
       "Bi_missing[11]  0.125  0.942  -1.568    1.938      0.013    0.015    5227.0   \n",
       "sB              1.039  0.175   0.741    1.368      0.004    0.003    2407.0   \n",
       "s               0.858  0.144   0.597    1.122      0.003    0.002    2628.0   \n",
       "\n",
       "                ess_tail  r_hat  \n",
       "muB               3072.0    1.0  \n",
       "a                 2993.0    1.0  \n",
       "bB                2892.0    1.0  \n",
       "bM                3126.0    1.0  \n",
       "Bi_missing[0]     3026.0    1.0  \n",
       "Bi_missing[1]     3116.0    1.0  \n",
       "Bi_missing[2]     2933.0    1.0  \n",
       "Bi_missing[3]     3051.0    1.0  \n",
       "Bi_missing[4]     2544.0    1.0  \n",
       "Bi_missing[5]     2464.0    1.0  \n",
       "Bi_missing[6]     2787.0    1.0  \n",
       "Bi_missing[7]     2769.0    1.0  \n",
       "Bi_missing[8]     2937.0    1.0  \n",
       "Bi_missing[9]     3070.0    1.0  \n",
       "Bi_missing[10]    2690.0    1.0  \n",
       "Bi_missing[11]    3003.0    1.0  \n",
       "sB                2901.0    1.0  \n",
       "s                 2873.0    1.0  "
      ]
     },
     "execution_count": 128,
     "metadata": {},
     "output_type": "execute_result"
    }
   ],
   "source": [
    "az.summary(trace5, var_names=['~mu'])"
   ]
  },
  {
   "cell_type": "code",
   "execution_count": 136,
   "metadata": {},
   "outputs": [
    {
     "data": {
      "image/png": "[encoded data removed]",
      "text/plain": [
       "<Figure size 432x288 with 1 Axes>"
      ]
     },
     "metadata": {
      "image/png": {
       "height": 296,
       "width": 440
      },
      "needs_background": "dark"
     },
     "output_type": "display_data"
    }
   ],
   "source": [
    "## above model does not know about M,B correlation caused by M <- U -> B\n",
    "post = trace5.posterior\n",
    "_, ax = plt.subplots()\n",
    "ax.scatter(d['M'], d['B'])\n",
    "ax.scatter(d['M'][d['neocortex.perc'].isna()], \n",
    "    post['Bi_missing'].mean(['chain','draw']), color=\"none\", edgecolor=\"w\");"
   ]
  },
  {
   "cell_type": "code",
   "execution_count": 150,
   "metadata": {},
   "outputs": [
    {
     "name": "stderr",
     "output_type": "stream",
     "text": [
      "/Users/sasha/miniforge3/lib/python3.9/site-packages/pymc/model.py:1431: ImputationWarning: Data in MB contains missing values and will be automatically imputed from the sampling distribution.\n",
      "  warnings.warn(impute_message, ImputationWarning)\n"
     ]
    },
    {
     "ename": "NotImplementedError",
     "evalue": "Automatic inputation is only supported for univariate RandomVariables, but MB is multivariate",
     "output_type": "error",
     "traceback": [
      "\u001b[0;31m---------------------------------------------------------------------------\u001b[0m",
      "\u001b[0;31mNotImplementedError\u001b[0m                       Traceback (most recent call last)",
      "\u001b[1;32m/Users/sasha/rethinking-pymc/ch15.ipynb Cell 20\u001b[0m in \u001b[0;36m<cell line: 4>\u001b[0;34m()\u001b[0m\n\u001b[1;32m      <a href='vscode-notebook-cell:/Users/sasha/rethinking-pymc/ch15.ipynb#X46sZmlsZQ%3D%3D?line=6'>7</a>\u001b[0m chol, _, _ \u001b[39m=\u001b[39m pm\u001b[39m.\u001b[39mLKJCholeskyCov(\u001b[39m\"\u001b[39m\u001b[39mchol\u001b[39m\u001b[39m\"\u001b[39m, n\u001b[39m=\u001b[39m\u001b[39m2\u001b[39m, eta\u001b[39m=\u001b[39m\u001b[39m2\u001b[39m, sd_dist\u001b[39m=\u001b[39mpm\u001b[39m.\u001b[39mExponential\u001b[39m.\u001b[39mdist(\u001b[39m1.0\u001b[39m))\n\u001b[1;32m      <a href='vscode-notebook-cell:/Users/sasha/rethinking-pymc/ch15.ipynb#X46sZmlsZQ%3D%3D?line=8'>9</a>\u001b[0m \u001b[39m#\"Automatic inputation is only supported for univariate RandomVariables, but MB is multivariate\"\u001b[39;00m\n\u001b[1;32m     <a href='vscode-notebook-cell:/Users/sasha/rethinking-pymc/ch15.ipynb#X46sZmlsZQ%3D%3D?line=9'>10</a>\u001b[0m \u001b[39m#MB = pm.MvNormal(\"MB\", mu=[muB,muM], chol=chol, observed=d[['M','B']])\u001b[39;00m\n\u001b[0;32m---> <a href='vscode-notebook-cell:/Users/sasha/rethinking-pymc/ch15.ipynb#X46sZmlsZQ%3D%3D?line=10'>11</a>\u001b[0m MB \u001b[39m=\u001b[39m pm\u001b[39m.\u001b[39;49mMvNormal(\u001b[39m\"\u001b[39;49m\u001b[39mMB\u001b[39;49m\u001b[39m\"\u001b[39;49m, mu\u001b[39m=\u001b[39;49m[muB,muM], chol\u001b[39m=\u001b[39;49mchol, observed\u001b[39m=\u001b[39;49mMB_obs)\n\u001b[1;32m     <a href='vscode-notebook-cell:/Users/sasha/rethinking-pymc/ch15.ipynb#X46sZmlsZQ%3D%3D?line=12'>13</a>\u001b[0m \u001b[39m## linear model\u001b[39;00m\n\u001b[1;32m     <a href='vscode-notebook-cell:/Users/sasha/rethinking-pymc/ch15.ipynb#X46sZmlsZQ%3D%3D?line=13'>14</a>\u001b[0m a \u001b[39m=\u001b[39m pm\u001b[39m.\u001b[39mNormal(\u001b[39m\"\u001b[39m\u001b[39ma\u001b[39m\u001b[39m\"\u001b[39m, \u001b[39m0\u001b[39m, \u001b[39m0.5\u001b[39m)\n",
      "File \u001b[0;32m~/miniforge3/lib/python3.9/site-packages/pymc/distributions/distribution.py:271\u001b[0m, in \u001b[0;36mDistribution.__new__\u001b[0;34m(cls, name, rng, dims, initval, observed, total_size, transform, *args, **kwargs)\u001b[0m\n\u001b[1;32m    267\u001b[0m \u001b[39mif\u001b[39;00m resize_shape:\n\u001b[1;32m    268\u001b[0m     \u001b[39m# A batch size was specified through `dims`, or implied by `observed`.\u001b[39;00m\n\u001b[1;32m    269\u001b[0m     rv_out \u001b[39m=\u001b[39m change_rv_size(rv\u001b[39m=\u001b[39mrv_out, new_size\u001b[39m=\u001b[39mresize_shape, expand\u001b[39m=\u001b[39m\u001b[39mTrue\u001b[39;00m)\n\u001b[0;32m--> 271\u001b[0m rv_out \u001b[39m=\u001b[39m model\u001b[39m.\u001b[39;49mregister_rv(\n\u001b[1;32m    272\u001b[0m     rv_out,\n\u001b[1;32m    273\u001b[0m     name,\n\u001b[1;32m    274\u001b[0m     observed,\n\u001b[1;32m    275\u001b[0m     total_size,\n\u001b[1;32m    276\u001b[0m     dims\u001b[39m=\u001b[39;49mdims,\n\u001b[1;32m    277\u001b[0m     transform\u001b[39m=\u001b[39;49mtransform,\n\u001b[1;32m    278\u001b[0m     initval\u001b[39m=\u001b[39;49minitval,\n\u001b[1;32m    279\u001b[0m )\n\u001b[1;32m    281\u001b[0m \u001b[39m# add in pretty-printing support\u001b[39;00m\n\u001b[1;32m    282\u001b[0m rv_out\u001b[39m.\u001b[39mstr_repr \u001b[39m=\u001b[39m types\u001b[39m.\u001b[39mMethodType(str_for_dist, rv_out)\n",
      "File \u001b[0;32m~/miniforge3/lib/python3.9/site-packages/pymc/model.py:1379\u001b[0m, in \u001b[0;36mModel.register_rv\u001b[0;34m(self, rv_var, name, data, total_size, dims, transform, initval)\u001b[0m\n\u001b[1;32m   1372\u001b[0m         \u001b[39mraise\u001b[39;00m \u001b[39mTypeError\u001b[39;00m(\n\u001b[1;32m   1373\u001b[0m             \u001b[39m\"\u001b[39m\u001b[39mVariables that depend on other nodes cannot be used for observed data.\u001b[39m\u001b[39m\"\u001b[39m\n\u001b[1;32m   1374\u001b[0m             \u001b[39mf\u001b[39m\u001b[39m\"\u001b[39m\u001b[39mThe data variable was: \u001b[39m\u001b[39m{\u001b[39;00mdata\u001b[39m}\u001b[39;00m\u001b[39m\"\u001b[39m\n\u001b[1;32m   1375\u001b[0m         )\n\u001b[1;32m   1377\u001b[0m     \u001b[39m# `rv_var` is potentially changed by `make_obs_var`,\u001b[39;00m\n\u001b[1;32m   1378\u001b[0m     \u001b[39m# for example into a new graph for imputation of missing data.\u001b[39;00m\n\u001b[0;32m-> 1379\u001b[0m     rv_var \u001b[39m=\u001b[39m \u001b[39mself\u001b[39;49m\u001b[39m.\u001b[39;49mmake_obs_var(rv_var, data, dims, transform)\n\u001b[1;32m   1381\u001b[0m \u001b[39mreturn\u001b[39;00m rv_var\n",
      "File \u001b[0;32m~/miniforge3/lib/python3.9/site-packages/pymc/model.py:1434\u001b[0m, in \u001b[0;36mModel.make_obs_var\u001b[0;34m(self, rv_var, data, dims, transform)\u001b[0m\n\u001b[1;32m   1431\u001b[0m warnings\u001b[39m.\u001b[39mwarn(impute_message, ImputationWarning)\n\u001b[1;32m   1433\u001b[0m \u001b[39mif\u001b[39;00m rv_var\u001b[39m.\u001b[39mowner\u001b[39m.\u001b[39mop\u001b[39m.\u001b[39mndim_supp \u001b[39m>\u001b[39m \u001b[39m0\u001b[39m:\n\u001b[0;32m-> 1434\u001b[0m     \u001b[39mraise\u001b[39;00m \u001b[39mNotImplementedError\u001b[39;00m(\n\u001b[1;32m   1435\u001b[0m         \u001b[39mf\u001b[39m\u001b[39m\"\u001b[39m\u001b[39mAutomatic inputation is only supported for univariate RandomVariables, but \u001b[39m\u001b[39m{\u001b[39;00mrv_var\u001b[39m}\u001b[39;00m\u001b[39m is multivariate\u001b[39m\u001b[39m\"\u001b[39m\n\u001b[1;32m   1436\u001b[0m     )\n\u001b[1;32m   1438\u001b[0m \u001b[39m# We can get a random variable comprised of only the unobserved\u001b[39;00m\n\u001b[1;32m   1439\u001b[0m \u001b[39m# entries by lifting the indices through the `RandomVariable` `Op`.\u001b[39;00m\n\u001b[1;32m   1441\u001b[0m masked_rv_var \u001b[39m=\u001b[39m rv_var[mask\u001b[39m.\u001b[39mnonzero()]\n",
      "\u001b[0;31mNotImplementedError\u001b[0m: Automatic inputation is only supported for univariate RandomVariables, but MB is multivariate"
     ]
    }
   ],
   "source": [
    "## can improve it by modeling (M, B) ~ MVNormal\n",
    "## but: \"Automatic inputation is only supported for univariate RandomVariables\"\n",
    "with pm.Model() as m7:\n",
    "    muB = pm.Normal(\"muB\", 0, 0.5)\n",
    "    muM = pm.Normal(\"muM\", 0, 0.5)\n",
    "    chol, _, _ = pm.LKJCholeskyCov(\"chol\", n=2, eta=2, sd_dist=pm.Exponential.dist(1.0))\n",
    "    MB = pm.MvNormal(\"MB\", mu=[muB,muM], chol=chol, observed=d[['M','B']])\n",
    "    ## linear model\n",
    "    a = pm.Normal(\"a\", 0, 0.5)\n",
    "    bB = pm.Normal(\"bB\", 0, 0.5)\n",
    "    bM = pm.Normal(\"bM\", 0, 0.5)\n",
    "    ## use imputed B and actual M\n",
    "    mu = pm.Deterministic(\"mu\", a + bB*MB[:,1] + bM*d['M'])\n",
    "    ## likelihood\n",
    "    s = pm.Exponential(\"s\", 1)\n",
    "    kcal = pm.Normal(\"kcal\", mu, s, observed=d['K'])\n"
   ]
  },
  {
   "cell_type": "markdown",
   "metadata": {},
   "source": [
    "#### 15.3\n",
    "\n",
    "$N \\sim poisson(\\lambda)$ ; N = notes sung  \n",
    "$log(\\lambda) = \\alpha + \\beta C$ ; C = presence/absence of cat  \n",
    "$ C \\sim bern(k) $ ; cat is present with prob k  \n",
    "$ R_c \\sim bern(r) $ ; cat data is missing with prob r"
   ]
  },
  {
   "cell_type": "code",
   "execution_count": 82,
   "metadata": {},
   "outputs": [],
   "source": [
    "n = 100\n",
    "a_true = 3.0# 5.0\n",
    "b_true = -2.0 #-3.0\n",
    "k_true = 0.5\n",
    "r = 0.2\n",
    "C = stats.bernoulli.rvs(p = k_true, size = n)\n",
    "notes_obs = stats.poisson.rvs(mu = np.exp(a_true + b_true*C))\n",
    "R_c = stats.bernoulli.rvs(p = r, size = n)\n",
    "C_obs = C.copy()\n",
    "C_obs[R_c == 1] = -9"
   ]
  },
  {
   "cell_type": "code",
   "execution_count": 70,
   "metadata": {},
   "outputs": [
    {
     "name": "stderr",
     "output_type": "stream",
     "text": [
      "Auto-assigning NUTS sampler...\n",
      "Initializing NUTS using jitter+adapt_diag...\n",
      "Multiprocess sampling (4 chains in 4 jobs)\n",
      "NUTS: [a, b, k]\n"
     ]
    },
    {
     "data": {
      "text/html": [
       "\n",
       "<style>\n",
       "    /* Turns off some styling */\n",
       "    progress {\n",
       "        /* gets rid of default border in Firefox and Opera. */\n",
       "        border: none;\n",
       "        /* Needs to be in here for Safari polyfill so background images work as expected. */\n",
       "        background-size: auto;\n",
       "    }\n",
       "    progress:not([value]), progress:not([value])::-webkit-progress-bar {\n",
       "        background: repeating-linear-gradient(45deg, #7e7e7e, #7e7e7e 10px, #5c5c5c 10px, #5c5c5c 20px);\n",
       "    }\n",
       "    .progress-bar-interrupted, .progress-bar-interrupted::-webkit-progress-bar {\n",
       "        background: #F44336;\n",
       "    }\n",
       "</style>\n"
      ],
      "text/plain": [
       "<IPython.core.display.HTML object>"
      ]
     },
     "metadata": {},
     "output_type": "display_data"
    },
    {
     "data": {
      "text/html": [
       "\n",
       "    <div>\n",
       "      <progress value='8000' class='' max='8000' style='width:300px; height:20px; vertical-align: middle;'></progress>\n",
       "      100.00% [8000/8000 00:01&lt;00:00 Sampling 4 chains, 0 divergences]\n",
       "    </div>\n",
       "    "
      ],
      "text/plain": [
       "<IPython.core.display.HTML object>"
      ]
     },
     "metadata": {},
     "output_type": "display_data"
    },
    {
     "name": "stderr",
     "output_type": "stream",
     "text": [
      "Sampling 4 chains for 1_000 tune and 1_000 draw iterations (4_000 + 4_000 draws total) took 9 seconds.\n"
     ]
    }
   ],
   "source": [
    "with pm.Model() as m8:\n",
    "    a = pm.Normal(\"a\", 0, 5)\n",
    "    b = pm.Normal(\"b\", 0, 5)\n",
    "    ## true k unknown, need to estimate\n",
    "    k = pm.Beta(\"k\", 2, 2)\n",
    "\n",
    "    ## manually add the log-likelihood for cat unknown cases using pm.Potential()\n",
    "    ## p = p(cat)p(notes|cat) + p(no cat)p(notes|no cat)\n",
    "    logp_N_cat = pm.logp(pm.Poisson.dist(pm.math.exp(a+b)) , notes_obs[C_obs == -9])\n",
    "    logp_N_nocat = pm.logp(pm.Poisson.dist(pm.math.exp(a)) , notes_obs[C_obs == -9])\n",
    "    logpCpNcat = pm.math.log(k) + logp_N_cat\n",
    "    logpCpNno = pm.math.log(1-k) + logp_N_nocat\n",
    "    total_logp = pm.math.logsumexp( pm.math.stack([logpCpNcat,logpCpNno]) , axis=0)\n",
    "    notes_RC1 = pm.Potential(\"notes|RC==1\", total_logp)\n",
    "\n",
    "    ## true k unknown, need to estimate\n",
    "    cat_RC0 = pm.Bernoulli(\"cat|RC==0\", k, observed=C_obs[C_obs != -9])\n",
    "    ## likelihood when cat data available\n",
    "    mu = pm.Deterministic(\"mu\", pm.math.exp(a + b*cat_RC0))\n",
    "    notes_RC0 = pm.Poisson(\"notes|RC==0\", mu, observed=notes_obs[C_obs != -9])\n",
    "\n",
    "    trace8 = pm.sample()\n"
   ]
  },
  {
   "cell_type": "code",
   "execution_count": 61,
   "metadata": {},
   "outputs": [
    {
     "name": "stdout",
     "output_type": "stream",
     "text": [
      "[-0.69314718 -0.35667494 -0.10536052]\n",
      "[-0.69314718 -0.35667494 -0.10536052]\n"
     ]
    }
   ],
   "source": [
    "## logsumexp\n",
    "p1 = np.array([0.1,0.2,0.3])\n",
    "p2 = np.array([0.4,0.5,0.6])\n",
    "p12 = p1 + p2\n",
    "logp1 = np.log(p1)\n",
    "logp2 = np.log(p2)\n",
    "logp12 = np.log(p12)\n",
    "\n",
    "print(logp12)\n",
    "print(logsumexp(np.stack([logp1,logp2]),axis=0))"
   ]
  },
  {
   "cell_type": "code",
   "execution_count": 71,
   "metadata": {},
   "outputs": [
    {
     "data": {
      "text/html": [
       "<div>\n",
       "<style scoped>\n",
       "    .dataframe tbody tr th:only-of-type {\n",
       "        vertical-align: middle;\n",
       "    }\n",
       "\n",
       "    .dataframe tbody tr th {\n",
       "        vertical-align: top;\n",
       "    }\n",
       "\n",
       "    .dataframe thead th {\n",
       "        text-align: right;\n",
       "    }\n",
       "</style>\n",
       "<table border=\"1\" class=\"dataframe\">\n",
       "  <thead>\n",
       "    <tr style=\"text-align: right;\">\n",
       "      <th></th>\n",
       "      <th>mean</th>\n",
       "      <th>sd</th>\n",
       "      <th>hdi_3%</th>\n",
       "      <th>hdi_97%</th>\n",
       "      <th>mcse_mean</th>\n",
       "      <th>mcse_sd</th>\n",
       "      <th>ess_bulk</th>\n",
       "      <th>ess_tail</th>\n",
       "      <th>r_hat</th>\n",
       "    </tr>\n",
       "  </thead>\n",
       "  <tbody>\n",
       "    <tr>\n",
       "      <th>a</th>\n",
       "      <td>3.020</td>\n",
       "      <td>0.033</td>\n",
       "      <td>2.955</td>\n",
       "      <td>3.077</td>\n",
       "      <td>0.000</td>\n",
       "      <td>0.000</td>\n",
       "      <td>5051.0</td>\n",
       "      <td>3324.0</td>\n",
       "      <td>1.0</td>\n",
       "    </tr>\n",
       "    <tr>\n",
       "      <th>b</th>\n",
       "      <td>-2.007</td>\n",
       "      <td>0.088</td>\n",
       "      <td>-2.177</td>\n",
       "      <td>-1.845</td>\n",
       "      <td>0.001</td>\n",
       "      <td>0.001</td>\n",
       "      <td>4527.0</td>\n",
       "      <td>3015.0</td>\n",
       "      <td>1.0</td>\n",
       "    </tr>\n",
       "    <tr>\n",
       "      <th>k</th>\n",
       "      <td>0.510</td>\n",
       "      <td>0.049</td>\n",
       "      <td>0.420</td>\n",
       "      <td>0.607</td>\n",
       "      <td>0.001</td>\n",
       "      <td>0.000</td>\n",
       "      <td>5431.0</td>\n",
       "      <td>2802.0</td>\n",
       "      <td>1.0</td>\n",
       "    </tr>\n",
       "    <tr>\n",
       "      <th>mu[0]</th>\n",
       "      <td>2.765</td>\n",
       "      <td>0.226</td>\n",
       "      <td>2.366</td>\n",
       "      <td>3.202</td>\n",
       "      <td>0.003</td>\n",
       "      <td>0.002</td>\n",
       "      <td>4797.0</td>\n",
       "      <td>3406.0</td>\n",
       "      <td>1.0</td>\n",
       "    </tr>\n",
       "    <tr>\n",
       "      <th>mu[1]</th>\n",
       "      <td>2.765</td>\n",
       "      <td>0.226</td>\n",
       "      <td>2.366</td>\n",
       "      <td>3.202</td>\n",
       "      <td>0.003</td>\n",
       "      <td>0.002</td>\n",
       "      <td>4797.0</td>\n",
       "      <td>3406.0</td>\n",
       "      <td>1.0</td>\n",
       "    </tr>\n",
       "    <tr>\n",
       "      <th>...</th>\n",
       "      <td>...</td>\n",
       "      <td>...</td>\n",
       "      <td>...</td>\n",
       "      <td>...</td>\n",
       "      <td>...</td>\n",
       "      <td>...</td>\n",
       "      <td>...</td>\n",
       "      <td>...</td>\n",
       "      <td>...</td>\n",
       "    </tr>\n",
       "    <tr>\n",
       "      <th>mu[76]</th>\n",
       "      <td>2.765</td>\n",
       "      <td>0.226</td>\n",
       "      <td>2.366</td>\n",
       "      <td>3.202</td>\n",
       "      <td>0.003</td>\n",
       "      <td>0.002</td>\n",
       "      <td>4797.0</td>\n",
       "      <td>3406.0</td>\n",
       "      <td>1.0</td>\n",
       "    </tr>\n",
       "    <tr>\n",
       "      <th>mu[77]</th>\n",
       "      <td>2.765</td>\n",
       "      <td>0.226</td>\n",
       "      <td>2.366</td>\n",
       "      <td>3.202</td>\n",
       "      <td>0.003</td>\n",
       "      <td>0.002</td>\n",
       "      <td>4797.0</td>\n",
       "      <td>3406.0</td>\n",
       "      <td>1.0</td>\n",
       "    </tr>\n",
       "    <tr>\n",
       "      <th>mu[78]</th>\n",
       "      <td>2.765</td>\n",
       "      <td>0.226</td>\n",
       "      <td>2.366</td>\n",
       "      <td>3.202</td>\n",
       "      <td>0.003</td>\n",
       "      <td>0.002</td>\n",
       "      <td>4797.0</td>\n",
       "      <td>3406.0</td>\n",
       "      <td>1.0</td>\n",
       "    </tr>\n",
       "    <tr>\n",
       "      <th>mu[79]</th>\n",
       "      <td>2.765</td>\n",
       "      <td>0.226</td>\n",
       "      <td>2.366</td>\n",
       "      <td>3.202</td>\n",
       "      <td>0.003</td>\n",
       "      <td>0.002</td>\n",
       "      <td>4797.0</td>\n",
       "      <td>3406.0</td>\n",
       "      <td>1.0</td>\n",
       "    </tr>\n",
       "    <tr>\n",
       "      <th>mu[80]</th>\n",
       "      <td>2.765</td>\n",
       "      <td>0.226</td>\n",
       "      <td>2.366</td>\n",
       "      <td>3.202</td>\n",
       "      <td>0.003</td>\n",
       "      <td>0.002</td>\n",
       "      <td>4797.0</td>\n",
       "      <td>3406.0</td>\n",
       "      <td>1.0</td>\n",
       "    </tr>\n",
       "  </tbody>\n",
       "</table>\n",
       "<p>84 rows × 9 columns</p>\n",
       "</div>"
      ],
      "text/plain": [
       "         mean     sd  hdi_3%  hdi_97%  mcse_mean  mcse_sd  ess_bulk  ess_tail  \\\n",
       "a       3.020  0.033   2.955    3.077      0.000    0.000    5051.0    3324.0   \n",
       "b      -2.007  0.088  -2.177   -1.845      0.001    0.001    4527.0    3015.0   \n",
       "k       0.510  0.049   0.420    0.607      0.001    0.000    5431.0    2802.0   \n",
       "mu[0]   2.765  0.226   2.366    3.202      0.003    0.002    4797.0    3406.0   \n",
       "mu[1]   2.765  0.226   2.366    3.202      0.003    0.002    4797.0    3406.0   \n",
       "...       ...    ...     ...      ...        ...      ...       ...       ...   \n",
       "mu[76]  2.765  0.226   2.366    3.202      0.003    0.002    4797.0    3406.0   \n",
       "mu[77]  2.765  0.226   2.366    3.202      0.003    0.002    4797.0    3406.0   \n",
       "mu[78]  2.765  0.226   2.366    3.202      0.003    0.002    4797.0    3406.0   \n",
       "mu[79]  2.765  0.226   2.366    3.202      0.003    0.002    4797.0    3406.0   \n",
       "mu[80]  2.765  0.226   2.366    3.202      0.003    0.002    4797.0    3406.0   \n",
       "\n",
       "        r_hat  \n",
       "a         1.0  \n",
       "b         1.0  \n",
       "k         1.0  \n",
       "mu[0]     1.0  \n",
       "mu[1]     1.0  \n",
       "...       ...  \n",
       "mu[76]    1.0  \n",
       "mu[77]    1.0  \n",
       "mu[78]    1.0  \n",
       "mu[79]    1.0  \n",
       "mu[80]    1.0  \n",
       "\n",
       "[84 rows x 9 columns]"
      ]
     },
     "execution_count": 71,
     "metadata": {},
     "output_type": "execute_result"
    }
   ],
   "source": [
    "az.summary(trace8)"
   ]
  },
  {
   "cell_type": "code",
   "execution_count": 84,
   "metadata": {},
   "outputs": [
    {
     "name": "stderr",
     "output_type": "stream",
     "text": [
      "Auto-assigning NUTS sampler...\n",
      "Initializing NUTS using jitter+adapt_diag...\n",
      "Multiprocess sampling (4 chains in 4 jobs)\n",
      "NUTS: [a, b, k]\n"
     ]
    },
    {
     "data": {
      "text/html": [
       "\n",
       "<style>\n",
       "    /* Turns off some styling */\n",
       "    progress {\n",
       "        /* gets rid of default border in Firefox and Opera. */\n",
       "        border: none;\n",
       "        /* Needs to be in here for Safari polyfill so background images work as expected. */\n",
       "        background-size: auto;\n",
       "    }\n",
       "    progress:not([value]), progress:not([value])::-webkit-progress-bar {\n",
       "        background: repeating-linear-gradient(45deg, #7e7e7e, #7e7e7e 10px, #5c5c5c 10px, #5c5c5c 20px);\n",
       "    }\n",
       "    .progress-bar-interrupted, .progress-bar-interrupted::-webkit-progress-bar {\n",
       "        background: #F44336;\n",
       "    }\n",
       "</style>\n"
      ],
      "text/plain": [
       "<IPython.core.display.HTML object>"
      ]
     },
     "metadata": {},
     "output_type": "display_data"
    },
    {
     "data": {
      "text/html": [
       "\n",
       "    <div>\n",
       "      <progress value='8000' class='' max='8000' style='width:300px; height:20px; vertical-align: middle;'></progress>\n",
       "      100.00% [8000/8000 00:03&lt;00:00 Sampling 4 chains, 0 divergences]\n",
       "    </div>\n",
       "    "
      ],
      "text/plain": [
       "<IPython.core.display.HTML object>"
      ]
     },
     "metadata": {},
     "output_type": "display_data"
    },
    {
     "name": "stderr",
     "output_type": "stream",
     "text": [
      "Sampling 4 chains for 1_000 tune and 1_000 draw iterations (4_000 + 4_000 draws total) took 15 seconds.\n"
     ]
    }
   ],
   "source": [
    "## reconstruct posterior prob for unknown cats\n",
    "with pm.Model() as m9:\n",
    "    a = pm.Normal(\"a\", 0, 5)\n",
    "    b = pm.Normal(\"b\", 0, 5)\n",
    "    k = pm.Beta(\"k\", 2, 2)\n",
    "\n",
    "    logp_N_cat = pm.logp(pm.Poisson.dist(pm.math.exp(a+b)) , notes_obs[C_obs == -9])\n",
    "    logp_N_nocat = pm.logp(pm.Poisson.dist(pm.math.exp(a)) , notes_obs[C_obs == -9])\n",
    "    logpCpNcat = pm.math.log(k) + logp_N_cat\n",
    "    logpCpNno = pm.math.log(1-k) + logp_N_nocat\n",
    "    total_logp = pm.math.logsumexp( pm.math.stack([logpCpNcat,logpCpNno]) , axis=0)\n",
    "    notes_RC1 = pm.Potential(\"notes|RC==1\", total_logp)\n",
    "\n",
    "    cat_RC0 = pm.Bernoulli(\"cat|RC==0\", k, observed=C_obs[C_obs != -9])\n",
    "    mu = pm.Deterministic(\"mu\", pm.math.exp(a + b*cat_RC0))\n",
    "    notes_RC0 = pm.Poisson(\"notes|RC==0\", mu, observed=notes_obs[C_obs != -9])\n",
    "\n",
    "    ## p(c=1|N) = p(N|c=1)p(c=1) / p(N)\n",
    "    ##    p(N) = p(n|c=1)p(c=1) + p(n|c=0)p(c=0)\n",
    "    logpC1 = pm.math.log(k) + pm.logp(pm.Poisson.dist(pm.math.exp(a+b)) , notes_obs)\n",
    "    logpC0 = pm.math.log(1-k) + pm.logp(pm.Poisson.dist(pm.math.exp(a)) , notes_obs)\n",
    "    pC1 = pm.Deterministic(\"pC1\", pm.math.exp(logpC1) / (pm.math.exp(logpC1) + pm.math.exp(logpC0)) )\n",
    "    trace9 = pm.sample()"
   ]
  },
  {
   "cell_type": "code",
   "execution_count": 85,
   "metadata": {},
   "outputs": [
    {
     "data": {
      "text/html": [
       "<div>\n",
       "<style scoped>\n",
       "    .dataframe tbody tr th:only-of-type {\n",
       "        vertical-align: middle;\n",
       "    }\n",
       "\n",
       "    .dataframe tbody tr th {\n",
       "        vertical-align: top;\n",
       "    }\n",
       "\n",
       "    .dataframe thead th {\n",
       "        text-align: right;\n",
       "    }\n",
       "</style>\n",
       "<table border=\"1\" class=\"dataframe\">\n",
       "  <thead>\n",
       "    <tr style=\"text-align: right;\">\n",
       "      <th></th>\n",
       "      <th>mean</th>\n",
       "      <th>sd</th>\n",
       "      <th>hdi_3%</th>\n",
       "      <th>hdi_97%</th>\n",
       "      <th>mcse_mean</th>\n",
       "      <th>mcse_sd</th>\n",
       "      <th>ess_bulk</th>\n",
       "      <th>ess_tail</th>\n",
       "      <th>r_hat</th>\n",
       "    </tr>\n",
       "  </thead>\n",
       "  <tbody>\n",
       "    <tr>\n",
       "      <th>a</th>\n",
       "      <td>2.939</td>\n",
       "      <td>0.035</td>\n",
       "      <td>2.873</td>\n",
       "      <td>3.004</td>\n",
       "      <td>0.001</td>\n",
       "      <td>0.000</td>\n",
       "      <td>3676.0</td>\n",
       "      <td>3190.0</td>\n",
       "      <td>1.0</td>\n",
       "    </tr>\n",
       "    <tr>\n",
       "      <th>b</th>\n",
       "      <td>-1.904</td>\n",
       "      <td>0.087</td>\n",
       "      <td>-2.071</td>\n",
       "      <td>-1.746</td>\n",
       "      <td>0.001</td>\n",
       "      <td>0.001</td>\n",
       "      <td>3911.0</td>\n",
       "      <td>3427.0</td>\n",
       "      <td>1.0</td>\n",
       "    </tr>\n",
       "    <tr>\n",
       "      <th>k</th>\n",
       "      <td>0.576</td>\n",
       "      <td>0.048</td>\n",
       "      <td>0.494</td>\n",
       "      <td>0.670</td>\n",
       "      <td>0.001</td>\n",
       "      <td>0.000</td>\n",
       "      <td>5746.0</td>\n",
       "      <td>3196.0</td>\n",
       "      <td>1.0</td>\n",
       "    </tr>\n",
       "    <tr>\n",
       "      <th>mu[0]</th>\n",
       "      <td>2.822</td>\n",
       "      <td>0.219</td>\n",
       "      <td>2.435</td>\n",
       "      <td>3.246</td>\n",
       "      <td>0.003</td>\n",
       "      <td>0.002</td>\n",
       "      <td>4706.0</td>\n",
       "      <td>3559.0</td>\n",
       "      <td>1.0</td>\n",
       "    </tr>\n",
       "    <tr>\n",
       "      <th>mu[1]</th>\n",
       "      <td>2.822</td>\n",
       "      <td>0.219</td>\n",
       "      <td>2.435</td>\n",
       "      <td>3.246</td>\n",
       "      <td>0.003</td>\n",
       "      <td>0.002</td>\n",
       "      <td>4706.0</td>\n",
       "      <td>3559.0</td>\n",
       "      <td>1.0</td>\n",
       "    </tr>\n",
       "    <tr>\n",
       "      <th>...</th>\n",
       "      <td>...</td>\n",
       "      <td>...</td>\n",
       "      <td>...</td>\n",
       "      <td>...</td>\n",
       "      <td>...</td>\n",
       "      <td>...</td>\n",
       "      <td>...</td>\n",
       "      <td>...</td>\n",
       "      <td>...</td>\n",
       "    </tr>\n",
       "    <tr>\n",
       "      <th>pC1[95]</th>\n",
       "      <td>1.000</td>\n",
       "      <td>0.000</td>\n",
       "      <td>1.000</td>\n",
       "      <td>1.000</td>\n",
       "      <td>0.000</td>\n",
       "      <td>0.000</td>\n",
       "      <td>3540.0</td>\n",
       "      <td>2581.0</td>\n",
       "      <td>1.0</td>\n",
       "    </tr>\n",
       "    <tr>\n",
       "      <th>pC1[96]</th>\n",
       "      <td>0.000</td>\n",
       "      <td>0.000</td>\n",
       "      <td>0.000</td>\n",
       "      <td>0.000</td>\n",
       "      <td>0.000</td>\n",
       "      <td>0.000</td>\n",
       "      <td>4454.0</td>\n",
       "      <td>3473.0</td>\n",
       "      <td>1.0</td>\n",
       "    </tr>\n",
       "    <tr>\n",
       "      <th>pC1[97]</th>\n",
       "      <td>1.000</td>\n",
       "      <td>0.000</td>\n",
       "      <td>1.000</td>\n",
       "      <td>1.000</td>\n",
       "      <td>0.000</td>\n",
       "      <td>0.000</td>\n",
       "      <td>3356.0</td>\n",
       "      <td>2673.0</td>\n",
       "      <td>1.0</td>\n",
       "    </tr>\n",
       "    <tr>\n",
       "      <th>pC1[98]</th>\n",
       "      <td>0.000</td>\n",
       "      <td>0.000</td>\n",
       "      <td>0.000</td>\n",
       "      <td>0.000</td>\n",
       "      <td>0.000</td>\n",
       "      <td>0.000</td>\n",
       "      <td>4928.0</td>\n",
       "      <td>3527.0</td>\n",
       "      <td>1.0</td>\n",
       "    </tr>\n",
       "    <tr>\n",
       "      <th>pC1[99]</th>\n",
       "      <td>1.000</td>\n",
       "      <td>0.000</td>\n",
       "      <td>1.000</td>\n",
       "      <td>1.000</td>\n",
       "      <td>0.000</td>\n",
       "      <td>0.000</td>\n",
       "      <td>3540.0</td>\n",
       "      <td>2581.0</td>\n",
       "      <td>1.0</td>\n",
       "    </tr>\n",
       "  </tbody>\n",
       "</table>\n",
       "<p>177 rows × 9 columns</p>\n",
       "</div>"
      ],
      "text/plain": [
       "          mean     sd  hdi_3%  hdi_97%  mcse_mean  mcse_sd  ess_bulk  \\\n",
       "a        2.939  0.035   2.873    3.004      0.001    0.000    3676.0   \n",
       "b       -1.904  0.087  -2.071   -1.746      0.001    0.001    3911.0   \n",
       "k        0.576  0.048   0.494    0.670      0.001    0.000    5746.0   \n",
       "mu[0]    2.822  0.219   2.435    3.246      0.003    0.002    4706.0   \n",
       "mu[1]    2.822  0.219   2.435    3.246      0.003    0.002    4706.0   \n",
       "...        ...    ...     ...      ...        ...      ...       ...   \n",
       "pC1[95]  1.000  0.000   1.000    1.000      0.000    0.000    3540.0   \n",
       "pC1[96]  0.000  0.000   0.000    0.000      0.000    0.000    4454.0   \n",
       "pC1[97]  1.000  0.000   1.000    1.000      0.000    0.000    3356.0   \n",
       "pC1[98]  0.000  0.000   0.000    0.000      0.000    0.000    4928.0   \n",
       "pC1[99]  1.000  0.000   1.000    1.000      0.000    0.000    3540.0   \n",
       "\n",
       "         ess_tail  r_hat  \n",
       "a          3190.0    1.0  \n",
       "b          3427.0    1.0  \n",
       "k          3196.0    1.0  \n",
       "mu[0]      3559.0    1.0  \n",
       "mu[1]      3559.0    1.0  \n",
       "...           ...    ...  \n",
       "pC1[95]    2581.0    1.0  \n",
       "pC1[96]    3473.0    1.0  \n",
       "pC1[97]    2673.0    1.0  \n",
       "pC1[98]    3527.0    1.0  \n",
       "pC1[99]    2581.0    1.0  \n",
       "\n",
       "[177 rows x 9 columns]"
      ]
     },
     "execution_count": 85,
     "metadata": {},
     "output_type": "execute_result"
    }
   ],
   "source": [
    "az.summary(trace9)"
   ]
  },
  {
   "cell_type": "code",
   "execution_count": 108,
   "metadata": {},
   "outputs": [
    {
     "data": {
      "text/plain": [
       "<matplotlib.collections.PathCollection at 0x15bec9520>"
      ]
     },
     "execution_count": 108,
     "metadata": {},
     "output_type": "execute_result"
    },
    {
     "data": {
      "image/png": "[encoded data removed]",
      "text/plain": [
       "<Figure size 720x288 with 1 Axes>"
      ]
     },
     "metadata": {
      "image/png": {
       "height": 296,
       "width": 728
      },
      "needs_background": "dark"
     },
     "output_type": "display_data"
    }
   ],
   "source": [
    "_, ax = plt.subplots(figsize=[10,4])\n",
    "ax.set_ylim(-0.1,1.1)\n",
    "ax.scatter(np.arange(n), C, color=\"none\", edgecolor=[\"violet\" if x==-9 else \"yellow\" for x in C_obs])\n",
    "ax.scatter(np.arange(n) , trace9.posterior['pC1'].mean(['chain','draw']), marker='.', color=\"violet\")"
   ]
  },
  {
   "cell_type": "code",
   "execution_count": null,
   "metadata": {},
   "outputs": [],
   "source": []
  }
 ],
 "metadata": {
  "kernelspec": {
   "display_name": "Python 3.9.13 ('base')",
   "language": "python",
   "name": "python3"
  },
  "language_info": {
   "codemirror_mode": {
    "name": "ipython",
    "version": 3
   },
   "file_extension": ".py",
   "mimetype": "text/x-python",
   "name": "python",
   "nbconvert_exporter": "python",
   "pygments_lexer": "ipython3",
   "version": "3.9.13"
  },
  "orig_nbformat": 4,
  "vscode": {
   "interpreter": {
    "hash": "c14a03c4f70d1c02abe9148588d9573d3e2b996cd52a0e27661bb04b50b00384"
   }
  }
 },
 "nbformat": 4,
 "nbformat_minor": 2
}
